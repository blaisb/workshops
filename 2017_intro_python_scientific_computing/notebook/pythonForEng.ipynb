{
 "cells": [
  {
   "cell_type": "code",
   "execution_count": 1,
   "metadata": {
    "collapsed": true
   },
   "outputs": [
    {
     "name": "stdout",
     "output_type": "stream",
     "text": [
      "Le chiffre est : 0\n",
      "Le chiffre est : 1\n",
      "Le chiffre est : 2\n",
      "Le chiffre est : 3\n",
      "Le chiffre est : 4\n",
      "Le chiffre est : 5\n",
      "Le chiffre est : 6\n",
      "Le chiffre est : 7\n",
      "Le chiffre est : 8\n",
      "Le chiffre est : 9\n",
      "Bruno aime les  canards\n",
      "Bruno aime les  ours\n",
      "Bruno aime les  chevres\n",
      "Bruno aime les  loups\n",
      "Bruno aime les  alpagas\n"
     ]
    }
   ],
   "source": [
    "\n",
    "# Un commentaire commence par un #\n",
    "# Importation d'un module\n",
    "import numpy as np\n",
    "# Les modules contiennent tout le materiel specialise\n",
    "\n",
    "# boucle for\n",
    "for i in range(0,10):\n",
    "    print (\"Le chiffre est :\", i)\n",
    "    # L'indentation est obligatoire en python, elle sert d'element syntaxique\n",
    "    # print sert a afficher a l'ecran.\n",
    "    \n",
    "animaux=[\"canards\", \"ours\", \"chevres\", \"loups\",\"alpagas\"]\n",
    "# Fin de l'indentation, la boucle for est finie\n",
    "# On peut boucler sur un peu n'importe quoi,..\n",
    "for ani in animaux:\n",
    "    print (\"Bruno aime les \", ani)"
   ]
  },
  {
   "cell_type": "code",
   "execution_count": 2,
   "metadata": {
    "collapsed": true
   },
   "outputs": [
    {
     "name": "stdout",
     "output_type": "stream",
     "text": [
      "0 9\n",
      "0 9\n",
      "a est superieur a 10\n"
     ]
    }
   ],
   "source": [
    "b=range(0,10)\n",
    "# b vaut [0,1,2,...,9]\n",
    "# La numerotation des tableaux en python commence a 0 et fini a n-1 comme en C\n",
    "print (b[0], b[9])\n",
    "# imprime le premier element et le dernier\n",
    "# On aurait aussi pu faire:\n",
    "print (b[0],b[-1])\n",
    "# -1 est le dernier indice, -2 l'avant dernier, etc.\n",
    "a=15\n",
    "# Test logiques\n",
    "if (a<10):\n",
    "    print(\"a est inferieur a 10\")\n",
    "elif (a>10):\n",
    "    print(\"a est superieur a 10\")\n",
    "else:\n",
    "    print(\"a est egal a 10\")"
   ]
  },
  {
   "cell_type": "code",
   "execution_count": 3,
   "metadata": {},
   "outputs": [],
   "source": [
    "# Multiplication\n",
    "c = 1. * 2.\n",
    "\n",
    "# Exposant\n",
    "d = 3. ** 3.\n",
    "\n",
    "# Division\n",
    "e = 4. / 2.\n",
    "\n",
    "# Division entiere\n",
    "f = 5 // 2\n",
    "\n",
    "# Modulo\n",
    "g = 2 % 6"
   ]
  },
  {
   "cell_type": "code",
   "execution_count": 4,
   "metadata": {
    "collapsed": true
   },
   "outputs": [
    {
     "name": "stdout",
     "output_type": "stream",
     "text": [
      "[10]\n"
     ]
    }
   ],
   "source": [
    "# Une liste vide\n",
    "avide=[]\n",
    "\n",
    "# Une liste en python est en fait un objet. Elle possede donc ses methodes\n",
    "avide.append(10)\n",
    "# avide contient maintenant un element\n",
    "print (avide)\n",
    "\n",
    "#Definir une fonction en python est particulierement simple\n",
    "def f(x):\n",
    "    y = max(x,0.) + 10\n",
    "    return y**2."
   ]
  },
  {
   "cell_type": "code",
   "execution_count": 5,
   "metadata": {},
   "outputs": [],
   "source": [
    "class Employe:\n",
    "   #Classe generale pour stocker l'information sur un employe\n",
    "   def __init__(self, nom, salaire):\n",
    "      self.nom = nom\n",
    "      self.salaire = salaire\n",
    "   def imprime(self):\n",
    "      print (\"Nom : \", self.nom,  \", Salaire: \", self.salaire)\n",
    " \n",
    "# Python permet aussi l'heritage\n",
    "class Ingenieur(Employe):\n",
    "    def __init__(self,nom,salaire,responsabilite):\n",
    "        Employe.__init__(self,nom,salaire)\n",
    "        self.responsabilite=responsabilite\n",
    "    #Polymorphisme simple\n",
    "    def imprime(self):\n",
    "        print (\"Nom : \", self.nom,  \", Salaire: \", self.salaire, \" est ingenieur responsable de \", self.responsabilite)\n",
    "        "
   ]
  },
  {
   "cell_type": "code",
   "execution_count": 6,
   "metadata": {
    "collapsed": true
   },
   "outputs": [
    {
     "name": "stdout",
     "output_type": "stream",
     "text": [
      "Nom :  Jean , Salaire:  10000\n",
      "Nom :  Bruno , Salaire:  10000  est ingenieur responsable de  Simulation\n"
     ]
    }
   ],
   "source": [
    "Jean = Employe(\"Jean\",10000)\n",
    "Bruno = Ingenieur(\"Bruno\",10000,\"Simulation\")\n",
    "Jean.imprime()\n",
    "Bruno.imprime()"
   ]
  },
  {
   "cell_type": "code",
   "execution_count": 10,
   "metadata": {
    "collapsed": true
   },
   "outputs": [
    {
     "data": {
      "image/png": "[encoded data removed]",
      "text/plain": [
       "<matplotlib.figure.Figure at 0x7fc506166400>"
      ]
     },
     "metadata": {},
     "output_type": "display_data"
    }
   ],
   "source": [
    "import numpy as np\n",
    "import matplotlib\n",
    "import matplotlib.pyplot as plt\n",
    "\n",
    "dx=np.array([0.1,0.02,0.01,0.005])\n",
    "error= 0.5*dx**2\n",
    "a,b = np.polyfit(np.log(dx),np.log(error),1)\n",
    "\n",
    "fig = plt.figure()\n",
    "ax = fig.add_subplot(111) \n",
    "ax.plot(dx,error,'ko',label='$\\Vert e_{\\mathbf{u}}\\Vert_{2}$')\n",
    "\n",
    "ax.plot(dx,np.exp(b)*dx**a,'-k',label='$\\Vert e_{\\mathbf{u}}\\Vert_{2}=%3.2f  \\Delta x^{%3.2f}$' %(np.exp(b),a))\n",
    "\n",
    "ax.set_yscale('log')\n",
    "ax.set_xscale('log')\n",
    "ax.grid(b=True, which='minor', color='grey', linestyle='--')\n",
    "ax.grid(b=True, which='major', color='k', linestyle='-')\n",
    "plt.ylabel('$\\Vert e \\Vert_2 $')\n",
    "plt.xlabel('$\\Delta x$')\n",
    "plt.legend()\n",
    "plt.show()"
   ]
  },
  {
   "cell_type": "code",
   "execution_count": 11,
   "metadata": {
    "collapsed": true
   },
   "outputs": [
    {
     "data": {
      "image/png": "[encoded data removed]",
      "text/plain": [
       "<matplotlib.figure.Figure at 0x7fc5064bccf8>"
      ]
     },
     "metadata": {},
     "output_type": "display_data"
    }
   ],
   "source": [
    "import numpy as np\n",
    "import matplotlib\n",
    "import matplotlib.pyplot as plt\n",
    "n=20\n",
    "dx=1/(n-1)\n",
    "mat = -2*np.eye(n)\n",
    "mat.flat[1::n+1]=1\n",
    "mat.flat[n::n+1]=1\n",
    "mat[0,:]=0\n",
    "mat[-1,:]=0\n",
    "mat[0,0]=1\n",
    "mat[-1,-1]=1\n",
    "b = - 20*np.ones(n) * dx**2.\n",
    "b[0]=1\n",
    "b[-1]=2\n",
    "T=np.linalg.solve(mat,b)\n",
    "plt.plot(np.linspace(0,1,n),T)\n",
    "plt.show()"
   ]
  },
  {
   "cell_type": "code",
   "execution_count": 12,
   "metadata": {
    "collapsed": true
   },
   "outputs": [
    {
     "name": "stdout",
     "output_type": "stream",
     "text": [
      "L'integrale trapz :  0.335\n",
      "L'integrale simps :  0.333333333333\n",
      "La solution :  0.3333333333333333\n"
     ]
    }
   ],
   "source": [
    "import numpy as np\n",
    "from scipy.integrate import simps\n",
    "\n",
    "def f(x):    \n",
    "    return x**2.\n",
    "\n",
    "x=np.linspace(0,1,11)\n",
    "# x est maintenant [0, 0.01, 0.02,...,1.]\n",
    "y = f(x)\n",
    "integral=np.trapz(y,x) # methode du trapeze\n",
    "integralS=simps(y,x) # methode de Simpson\n",
    "print(\"L'integrale trapz : \",integral )\n",
    "print(\"L'integrale simps : \",integralS )\n",
    "print(\"La solution : \", 1./3.)\n"
   ]
  },
  {
   "cell_type": "code",
   "execution_count": 20,
   "metadata": {
    "collapsed": true
   },
   "outputs": [
    {
     "data": {
      "image/png": "[encoded data removed]",
      "text/plain": [
       "<matplotlib.figure.Figure at 0x7fc4ff6b75c0>"
      ]
     },
     "metadata": {},
     "output_type": "display_data"
    }
   ],
   "source": [
    "import numpy as np\n",
    "from scipy.interpolate import interp1d\n",
    "import matplotlib.pyplot as plt\n",
    "\n",
    "x = np.linspace(0, 10, num=10, endpoint=True)\n",
    "y = np.cos(x)\n",
    "f = interp1d(x, y)\n",
    "f2 = interp1d(x, y, kind='cubic')\n",
    " \n",
    "xnew = np.linspace(0, 10, num=41, endpoint=True)\n",
    "\n",
    "plt.plot(x, y, 'o', xnew, f(xnew), '-', xnew, f2(xnew), '--')\n",
    "plt.legend(['data', 'linear', 'cubic'], loc='best')\n",
    "plt.show()"
   ]
  },
  {
   "cell_type": "code",
   "execution_count": 21,
   "metadata": {
    "collapsed": true
   },
   "outputs": [
    {
     "data": {
      "text/plain": [
       "x**2 + 3*x - 1/2"
      ]
     },
     "execution_count": 21,
     "metadata": {},
     "output_type": "execute_result"
    }
   ],
   "source": [
    "from sympy import *\n",
    "\n",
    "#define symbolic variables\n",
    "x,y = symbols(\"x y\")\n",
    "expr = cos(x) + 1\n",
    "\n",
    "\n",
    "\n",
    "# On peut aussi definir une formule par un \"string\"\n",
    "str_expr = \"x**2 + 3*x - 1/2\"\n",
    "expr2 = sympify(str_expr)\n",
    "expr2"
   ]
  },
  {
   "cell_type": "code",
   "execution_count": 22,
   "metadata": {
    "collapsed": true
   },
   "outputs": [
    {
     "data": {
      "text/plain": [
       "1.54030230586814"
      ]
     },
     "execution_count": 22,
     "metadata": {},
     "output_type": "execute_result"
    }
   ],
   "source": [
    "expr.subs(x,1.)"
   ]
  },
  {
   "cell_type": "code",
   "execution_count": 23,
   "metadata": {
    "collapsed": true
   },
   "outputs": [
    {
     "data": {
      "text/plain": [
       "cos(y) + 1"
      ]
     },
     "execution_count": 23,
     "metadata": {},
     "output_type": "execute_result"
    }
   ],
   "source": [
    "expr.subs(x,y)"
   ]
  },
  {
   "cell_type": "code",
   "execution_count": 24,
   "metadata": {
    "collapsed": true
   },
   "outputs": [
    {
     "data": {
      "text/plain": [
       "-2*a**2*sin(a*x)*cos(a*y)"
      ]
     },
     "execution_count": 24,
     "metadata": {},
     "output_type": "execute_result"
    }
   ],
   "source": [
    "from sympy import *\n",
    "\n",
    "#define symbolic variables\n",
    "x,y,a = symbols(\"x y a\")\n",
    "\n",
    "def laplacian(u):\n",
    "\treturn diff(u,x,x)+diff(u,y,y)\n",
    "\n",
    "u=sin(a*x)*cos(a*y)\n",
    "laplacian(u)"
   ]
  },
  {
   "cell_type": "code",
   "execution_count": 27,
   "metadata": {
    "collapsed": true
   },
   "outputs": [
    {
     "data": {
      "text/plain": [
       "exp(x)*sin(x)/2 - exp(x)*cos(x)/2"
      ]
     },
     "execution_count": 27,
     "metadata": {},
     "output_type": "execute_result"
    }
   ],
   "source": [
    "from  sympy import *\n",
    "\n",
    "#define symbolic variables\n",
    "x,y,a = symbols(\"x y a\")\n",
    "\n",
    "u=sin(x)*exp(x)\n",
    "#Integrale symbolique sans borne\n",
    "integrate(u,x)\n",
    "\n"
   ]
  },
  {
   "cell_type": "code",
   "execution_count": 26,
   "metadata": {
    "collapsed": true
   },
   "outputs": [
    {
     "data": {
      "text/plain": [
       "1"
      ]
     },
     "execution_count": 26,
     "metadata": {},
     "output_type": "execute_result"
    }
   ],
   "source": [
    "#Integrale symbolique avec bornes\n",
    "v=exp(-x)\n",
    "integrate(v,(x,0,oo))"
   ]
  },
  {
   "cell_type": "code",
   "execution_count": null,
   "metadata": {},
   "outputs": [],
   "source": []
  }
 ],
 "metadata": {
  "kernelspec": {
   "display_name": "Python 3",
   "language": "python",
   "name": "python3"
  },
  "language_info": {
   "codemirror_mode": {
    "name": "ipython",
    "version": 3
   },
   "file_extension": ".py",
   "mimetype": "text/x-python",
   "name": "python",
   "nbconvert_exporter": "python",
   "pygments_lexer": "ipython3",
   "version": "3.6.3"
  }
 },
 "nbformat": 4,
 "nbformat_minor": 2
}
